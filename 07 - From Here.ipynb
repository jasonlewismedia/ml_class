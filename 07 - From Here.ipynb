{
 "cells": [
  {
   "cell_type": "markdown",
   "metadata": {},
   "source": [
    "# Summary\n",
    "\n",
    "So now you know:\n",
    "\n",
    "1. Basic ML Terms (It's not scary anymore, right?)\n",
    "2. Some ways to use Clustering\n",
    "2. Some ways to slice and consider your data (there's a lot more to it)\n",
    "2. How to do a basic Linear Regression and evaluate the quality\n",
    "2. How to implement a simple Neural Network and evaluate the quality\n",
    "\n",
    "# Now What?\n",
    "\n",
    "Here are some links to jump to from here:\n",
    "\n",
    "- [Google Seedbank](http://tools.google.com/seedbank/) - A collection of visual ML Examples\n",
    "- [Tensorflow Playground](http://playground.tensorflow.org/) - See how using different layers of neural networks and algortihms will work with data\n",
    "- [Ganlab Playground](https://poloclub.github.io/ganlab/) - Learn about Generative Adversarial Networks visually\n",
    "- [Google Machine Learning Crash-Course](https://developers.google.com/machine-learning/crash-course/) - 15 hours of content\n",
    "- [Coursera: Machine Learning](https://www.coursera.org/learn/machine-learning) - An 11-week course, exploring machine learning from the ground up, with a focus on math (using Octave/Matlab)\n",
    "- [Awesome Deep Learning](https://github.com/ChristosChristofidis/awesome-deep-learning) - Curious about Deep Learning? Here's a gihub repo with a curated list of links and resources\n",
    "- [Fast.ai](http://www.fast.ai/) - more learning resources\n",
    "- [Matrix Multiplication](http://matrixmultiplication.xyz/) - Visualization of Matrix Multiplication\n",
    "- [Deep Learning Book](http://www.deeplearningbook.org/) - The book on Deep Learning by Goodfellow, Bengio, and Courville (MIT Press) \n"
   ]
  }
 ],
 "metadata": {
  "kernelspec": {
   "display_name": "Python 3",
   "language": "python",
   "name": "python3"
  },
  "language_info": {
   "codemirror_mode": {
    "name": "ipython",
    "version": 3
   },
   "file_extension": ".py",
   "mimetype": "text/x-python",
   "name": "python",
   "nbconvert_exporter": "python",
   "pygments_lexer": "ipython3",
   "version": "3.6.5"
  }
 },
 "nbformat": 4,
 "nbformat_minor": 2
}
