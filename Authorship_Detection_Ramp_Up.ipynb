{
 "cells": [
  {
   "cell_type": "markdown",
   "metadata": {},
   "source": [
    "# Victorian Era Authorship Attribution\n",
    "\n",
    "*Written by: [Sweta Karlekar](https://rostr.disney.com/people/1c48fc86dfaf4c04a245c70e4d3d106a)*\n",
    "\n",
    "**TASK**: Given text samples, predict authorship from 45 available authors.  \n",
    "\n",
    "Dataset information:  English language writing authors, authors that have enough books available (at least 5), 19th century authors. With these criteria 45 authors have been selected and their books were queried through Big Query Gdelt database. The dataset was cleaned before being published online at the link below. Data is presented in labeled format, with an attributed author for each given text. \n",
    "\n",
    "**This project:**\n",
    "- **Clusters data to understand relationships between author works:**\n",
    "    - Runs K-Means *(K=45)* clustering on term/feature vectors to understand themes discussed in various works \n",
    "    - Visualizes above clustering technique with author tags rather than feature vectors to visualize which authors' works are commonly grouped \n",
    "    - Runs K-Means *(K=10)* clustering on vectorized author profiles to find similar authors \n",
    "- **Classifies data based on authorship tag:**\n",
    "    - Runs Naive Bayes classification\n",
    "    - Runs Linear SVM classification \n",
    "    - Runs Multi-Layer Perceptron over text classification\n",
    "\n",
    "**Data Information:**\n",
    " - Data was randomly shuffled and 10% of data was set aside as held-out test set. \n",
    "\n",
    "**Results:**\n",
    "- Achieves Homogeneity: 0.2, Completeness: 0.3, V-measure: 0.2 with K-Means Clustering \n",
    "- Achieves 73% accuracy with Naive Bayes classification \n",
    "- Achieves 98% accuracy with Linear SVM classification \n",
    "- Achieves 98% accuracy with Multi-Layer Perceptron\n",
    "\n",
    "Link: https://archive.ics.uci.edu/ml/datasets/Victorian+Era+Authorship+Attribution\n",
    "\n"
   ]
  },
  {
   "cell_type": "code",
   "execution_count": 1,
   "metadata": {},
   "outputs": [
    {
     "name": "stdout",
     "output_type": "stream",
     "text": [
      "Requirement already satisfied: yellowbrick in /Users/karls010/anaconda3/lib/python3.6/site-packages (0.8)\n",
      "Requirement already satisfied: cycler>=0.10.0 in /Users/karls010/anaconda3/lib/python3.6/site-packages (from yellowbrick) (0.10.0)\n",
      "Requirement already satisfied: scikit-learn>=0.19 in /Users/karls010/anaconda3/lib/python3.6/site-packages (from yellowbrick) (0.19.1)\n",
      "Requirement already satisfied: matplotlib>=1.5.1 in /Users/karls010/anaconda3/lib/python3.6/site-packages (from yellowbrick) (2.2.2)\n",
      "Requirement already satisfied: scipy>=0.19 in /Users/karls010/anaconda3/lib/python3.6/site-packages (from yellowbrick) (1.1.0)\n",
      "Requirement already satisfied: numpy>=1.13.0 in /Users/karls010/anaconda3/lib/python3.6/site-packages (from yellowbrick) (1.14.3)\n",
      "Requirement already satisfied: six in /Users/karls010/anaconda3/lib/python3.6/site-packages (from cycler>=0.10.0->yellowbrick) (1.11.0)\n",
      "Requirement already satisfied: pyparsing!=2.0.4,!=2.1.2,!=2.1.6,>=2.0.1 in /Users/karls010/anaconda3/lib/python3.6/site-packages (from matplotlib>=1.5.1->yellowbrick) (2.2.0)\n",
      "Requirement already satisfied: python-dateutil>=2.1 in /Users/karls010/anaconda3/lib/python3.6/site-packages (from matplotlib>=1.5.1->yellowbrick) (2.7.3)\n",
      "Requirement already satisfied: pytz in /Users/karls010/anaconda3/lib/python3.6/site-packages (from matplotlib>=1.5.1->yellowbrick) (2018.4)\n",
      "Requirement already satisfied: kiwisolver>=1.0.1 in /Users/karls010/anaconda3/lib/python3.6/site-packages (from matplotlib>=1.5.1->yellowbrick) (1.0.1)\n",
      "Requirement already satisfied: setuptools in /Users/karls010/anaconda3/lib/python3.6/site-packages (from kiwisolver>=1.0.1->matplotlib>=1.5.1->yellowbrick) (39.1.0)\n"
     ]
    }
   ],
   "source": [
    "!pip install yellowbrick "
   ]
  },
  {
   "cell_type": "code",
   "execution_count": 2,
   "metadata": {},
   "outputs": [],
   "source": [
    "import pandas as pd \n",
    "import numpy as np\n",
    "import matplotlib.pyplot as plt\n",
    "from sklearn.model_selection import train_test_split\n",
    "from sklearn.metrics import accuracy_score\n",
    "from sklearn.svm import LinearSVC\n",
    "from sklearn.feature_extraction import stop_words\n",
    "from yellowbrick.text.freqdist import FreqDistVisualizer\n",
    "from sklearn.feature_extraction.text import TfidfVectorizer\n",
    "from sklearn.cluster import KMeans, MiniBatchKMeans"
   ]
  },
  {
   "cell_type": "markdown",
   "metadata": {},
   "source": [
    "## Loading Data \n",
    "\n",
    "The first thing we do is load the data, which has been saved in a csv file in the same folder under the name \"train_data.csv\". To load the data, we use the read_csv() function from the pandas module and select the \"text\" and \"author\" column. Then, using the dropna() function, we remove all instances in which either the text or the author is missing. Next, we shuffle the data using the reindex() function. Finally, we return a list of unique labels, the text instances (x_raw), and corresponding labels (y_raw). "
   ]
  },
  {
   "cell_type": "code",
   "execution_count": 3,
   "metadata": {},
   "outputs": [],
   "source": [
    "def load_data(filename): \n",
    "    #get the selected columns out of the dataset and shuffle\n",
    "    df = pd.read_csv(filename, encoding=\"ISO-8859-1\")\n",
    "    selected = ['text', 'author']\n",
    "    df = df.dropna(axis=0, how='any', subset=selected)\n",
    "    df = df.reindex(np.random.permutation(df.index)) #shuffle \n",
    "    labels = sorted(list(set(df[selected[1]].tolist())))\n",
    "   \n",
    "    x_raw = df[selected[0]].tolist()\n",
    "    y_raw = df[selected[1]].tolist()\n",
    "\n",
    "    return x_raw, y_raw, labels"
   ]
  },
  {
   "cell_type": "markdown",
   "metadata": {},
   "source": [
    "Here we call the load_data() function on our training file and save the values that are returned. Next, in order to check our return values, we print out samples of the loaded data. "
   ]
  },
  {
   "cell_type": "code",
   "execution_count": 4,
   "metadata": {},
   "outputs": [],
   "source": [
    "!wget https://archive.ics.uci.edu/ml/machine-learning-databases/00454/dataset.zip\n",
    "!unzip dataset.zip "
   ]
  },
  {
   "cell_type": "code",
   "execution_count": 5,
   "metadata": {},
   "outputs": [
    {
     "name": "stdout",
     "output_type": "stream",
     "text": [
      "on monday i am sure of it ay monday morning before..., 9\n",
      "but nobody ever said so oh yes they is it true vai..., 15\n",
      "reading a book the picture of good humor and repos..., 38\n",
      "once what you have done i would rather know the pa..., 14\n",
      "dreamed of her all and now f be he met her at the ..., 42\n"
     ]
    }
   ],
   "source": [
    "train_file = 'dataset/Gungor_2018_VictorianAuthorAttribution_data-train.csv'\n",
    "x_raw, y_raw, y_labels = load_data(train_file)\n",
    "\n",
    "#print samples of loaded data\n",
    "NUM_SAMPLES = 5\n",
    "for i in range(NUM_SAMPLES): \n",
    "    print(\"{}..., {}\".format(x_raw[i][0:50], y_raw[i]))"
   ]
  },
  {
   "cell_type": "markdown",
   "metadata": {},
   "source": [
    "Here we plot the number of stories in the dataset per author. We see that some authors are overrepresented in the dataset. Because of this, we will require further analysis into our results to ensure our models do not overfit. "
   ]
  },
  {
   "cell_type": "code",
   "execution_count": 6,
   "metadata": {},
   "outputs": [
    {
     "data": {
      "image/png": "[encoded data removed]",
      "text/plain": [
       "<Figure size 432x288 with 1 Axes>"
      ]
     },
     "metadata": {},
     "output_type": "display_data"
    }
   ],
   "source": [
    "dictY = {}\n",
    "for x in range(len(y_raw)): \n",
    "    if(y_raw[x] in dictY): \n",
    "        dictY[y_raw[x]] += 1\n",
    "    else: \n",
    "        dictY[y_raw[x]] = 0 \n",
    "plt.bar(list(dictY.keys()), dictY.values(), color='g')\n",
    "plt.ylabel('Number of Stories')\n",
    "plt.xlabel('Author ID')\n",
    "plt.show()"
   ]
  },
  {
   "cell_type": "markdown",
   "metadata": {},
   "source": [
    "## Vectorizing and Visualizing Data \n",
    "\n",
    "Using sklearn's TfidfVectorizer(), we can produce sparse representation of the word counts. TfidfVectorizer uses a in-memory vocabulary (a python dict) to map the most frequent words to features indices and hence compute a word occurrence frequency (sparse) matrix. The word frequencies are then reweighted using the Inverse Document Frequency (IDF) vector collected feature-wise over the corpus (~from sci-kit learn documentation). While CountVectorizers are commonly used, TfidfVectorizers are preferred for large text corpuses in which some words are very present (i.e. stop words) and carry little meaningful information about the contents of the document. Instead, using term-frequency (*tf* in *tfidf*) times the inverse document-frequency (*idf* in *tfidf*) allows for features that are more representative of the content of the documents. \n",
    "\n",
    "After vectorizing, we can graph the frequency distribution of the top 50 tokens with standard English stop words removed (*graph_frequencies()* code from [Reuters-21578 Text Categorization.ipynb](https://gitlab.disney.com/ets/jupyter-ml-rampup/blob/master/reuters_text_categorization/Reuters-21578%20Text%20Categorization.ipynb)). Then we graph the frequences using FreqDistVisualizer from yellowbrick. "
   ]
  },
  {
   "cell_type": "code",
   "execution_count": 7,
   "metadata": {},
   "outputs": [
    {
     "data": {
      "image/png": "[encoded data removed]",
      "text/plain": [
       "<Figure size 1440x720 with 1 Axes>"
      ]
     },
     "metadata": {},
     "output_type": "display_data"
    }
   ],
   "source": [
    "def graph_frequencies(matrix, features):\n",
    "    fig, ax = plt.subplots(figsize=(20, 10))\n",
    "    visualizer = FreqDistVisualizer(features=features, ax=ax)\n",
    "    visualizer.fit(matrix)\n",
    "    visualizer.poof()\n",
    "    plt.close(fig)\n",
    "\n",
    "#vectorize data (put it into token form to extract features)\n",
    "vectorizer = TfidfVectorizer(stop_words = \"english\")\n",
    "bodyMatrix = vectorizer.fit_transform(x_raw)\n",
    "\n",
    "#graph the features to find out frequency distribution \n",
    "bodyFeatures = vectorizer.get_feature_names()\n",
    "graph_frequencies(bodyMatrix, bodyFeatures)"
   ]
  },
  {
   "cell_type": "code",
   "execution_count": 8,
   "metadata": {},
   "outputs": [
    {
     "name": "stdout",
     "output_type": "stream",
     "text": [
      "n_samples: 53678, n_features: 9673\n"
     ]
    }
   ],
   "source": [
    "print(\"n_samples: %d, n_features: %d\" % bodyMatrix.shape)"
   ]
  },
  {
   "cell_type": "markdown",
   "metadata": {},
   "source": [
    "## K-Means Clustering \n",
    "\n",
    "K-Means clustering is one of the fastest clustering algorithms available. We use clustering to see if words from these text samples fall into distinct categories, or if they are all very similar. Features were clustered into 45 distinct groups as there are 45 true distinct authors. We do this under the assumption that different authors have different writing styles and write in different topics, however this may not always be the case. The inertia (sum of squared distances of samples to their closest cluster center) decreases with each iteration through the run time. The default for MiniBatchKMeans is stop if the inertia does not decrease after 10 iterations (called early-stopping). The n_init parameter allows the MiniBatch algorithm to run *N* times (N = 20) and choose the best run with the least inertia to report results. This step is important because K-Means is susceptible to falling into local minima, which is why it is important to run multiple times. The run time is also printed for future reference. "
   ]
  },
  {
   "cell_type": "markdown",
   "metadata": {},
   "source": [
    "### Feature Clustering "
   ]
  },
  {
   "cell_type": "code",
   "execution_count": 9,
   "metadata": {},
   "outputs": [
    {
     "name": "stdout",
     "output_type": "stream",
     "text": [
      "Clustering sparse data with MiniBatchKMeans(batch_size=100, compute_labels=True, init='k-means++',\n",
      "        init_size=None, max_iter=100, max_no_improvement=10, n_clusters=45,\n",
      "        n_init=20, random_state=42, reassignment_ratio=0.01, tol=0.0,\n",
      "        verbose=0)\n",
      "done in 5.552s\n",
      "\n"
     ]
    }
   ],
   "source": [
    "from sklearn.pipeline import make_pipeline\n",
    "from sklearn.preprocessing import Normalizer\n",
    "from sklearn import metrics\n",
    "from sklearn.decomposition import TruncatedSVD\n",
    "from sklearn.cluster import KMeans, MiniBatchKMeans\n",
    "import logging\n",
    "import sys\n",
    "from time import time\n",
    "\n",
    "true_k = len(y_labels) #the true number of clusters should be the number of unique authors\n",
    "km = MiniBatchKMeans(n_clusters=true_k, init='k-means++', n_init=20, random_state = 42, compute_labels = True) #make it verbose so we know it's working\n",
    "print(\"Clustering sparse data with %s\" % km)\n",
    "t0 = time() #record start time to document the total time it took to run\n",
    "km.fit(bodyMatrix, y_raw)\n",
    "print(\"done in %0.3fs\" % (time() - t0)) #print total run time\n",
    "print()"
   ]
  },
  {
   "cell_type": "markdown",
   "metadata": {},
   "source": [
    "Below are the most common evaluation techniques for clustering. \n",
    "\n",
    "- Homogeneity: a measure of if clusters contain only data points that are members of a single class \n",
    "- Completeness: a measure of if all data points that are members of a given class are elements of the same cluster \n",
    "- V-measure: harmonic mean between homogeneity and completeness \n",
    "- Adjusted Rand-Index: computes similarity measure between two clusterings by considering all pairs of samples and county pairs that are assigned in the same or different cluster in the predicted and true clustering (i.e. similarity scores that measure if the labelings are better than random labelings)\n",
    "- Silhouette Coefficient: mean intra-cluster distance and mean nearest-cluster distance, higher values indicate very distinct clusters with no overlap, values near zero indicate overlapping clusters, and negative values indicate samples that are assigned to the wrong cluster\n",
    "\n",
    "We also print out the top terms of each cluster to visualize which concepts and features are grouped together. "
   ]
  },
  {
   "cell_type": "code",
   "execution_count": 10,
   "metadata": {},
   "outputs": [
    {
     "name": "stdout",
     "output_type": "stream",
     "text": [
      "Homogeneity: 0.176\n",
      "Completeness: 0.315\n",
      "V-measure: 0.226\n",
      "Adjusted Rand-Index: 0.043\n",
      "Silhouette Coefficient: 0.005\n",
      "\n",
      "Top terms per cluster:\n",
      "Cluster 0: city,  significance,  gambling,  chief,  newspaper,  connection,  concerned,  editor,  state,  man, \n",
      "Cluster 1: exertion,  eloquence,  caesar,  jf,  philosophers,  roman,  rome,  young,  extracted,  men, \n",
      "Cluster 2: thou,  thy,  thee,  said,  hast,  art,  man,  shall,  god,  thine, \n",
      "Cluster 3: mother,  mr,  street,  husband,  influenced,  mrs,  sunlight,  emotions,  rested,  group, \n",
      "Cluster 4: year,  fu,  new,  decorated,  temples,  prayers,  streets,  boats,  custom,  debts, \n",
      "Cluster 5: mr,  said,  sir,  mrs,  know,  man,  don,  little,  say,  old, \n",
      "Cluster 6: thou,  hast,  rt,  things,  virtue,  thine,  ex,  di,  si,  following, \n",
      "Cluster 7: jane,  mr,  mrs,  miss,  letters,  elizabeth,  mother,  edward,  letter,  mary, \n",
      "Cluster 8: said,  man,  like,  little,  did,  know,  don,  old,  come,  time, \n",
      "Cluster 9: sir,  maria,  nt,  tho,  idle,  id,  mi,  steady,  thomas,  ai, \n",
      "Cluster 10: drama,  desert,  frantic,  les,  frenchman,  cough,  slid,  negro,  sleeve,  eyes, \n",
      "Cluster 11: mrs,  said,  mr,  mother,  know,  dear,  don,  lady,  little,  did, \n",
      "Cluster 12: hush,  ye,  mother,  dame,  neighbour,  hangs,  imperfect,  procession,  execution,  duke, \n",
      "Cluster 13: man,  men,  great,  new,  life,  world,  nature,  time,  english,  country, \n",
      "Cluster 14: slavery,  states,  territory,  state,  constitution,  united,  union,  government,  mr,  vote, \n",
      "Cluster 15: fiction,  tales,  phases,  magazines,  tended,  hospital,  invariably,  envy,  world,  writers, \n",
      "Cluster 16: anne,  captain,  walter,  persuasion,  mrs,  charles,  lady,  mary,  mr,  said, \n",
      "Cluster 17: john,  winter,  mrs,  strange,  sword,  clothes,  household,  miss,  heart,  alexander, \n",
      "Cluster 18: th,  sister,  children,  says,  michael,  chariot,  bread,  lt,  starve,  aye, \n",
      "Cluster 19: mountains,  feet,  snow,  trees,  miles,  mountain,  water,  lake,  pine,  river, \n",
      "Cluster 20: visitor,  lunch,  visiting,  danger,  cleaned,  seldom,  baker,  instincts,  mrs,  day, \n",
      "Cluster 21: walter,  mary,  occupied,  mansion,  mrs,  house,  colonel,  doors,  rooms,  folding, \n",
      "Cluster 22: library,  cottage,  shakespeare,  garden,  attendant,  plans,  committee,  gardener,  free,  sub, \n",
      "Cluster 23: miss,  said,  mr,  think,  know,  lady,  mrs,  dear,  little,  did, \n",
      "Cluster 24: uncle,  nephew,  road,  hill,  carts,  whip,  red,  flew,  curve,  butcher, \n",
      "Cluster 25: marvel,  professor,  college,  john,  shaft,  posted,  manners,  escort,  assistant,  murdered, \n",
      "Cluster 26: maria,  play,  act,  preventing,  tom,  park,  sure,  representation,  mr,  bits, \n",
      "Cluster 27: lo,  ii,  il,  tlie,  tbe,  ihe,  iâ,  ia,  li,  hi, \n",
      "Cluster 28: sir,  wheels,  night,  train,  limb,  saw,  turning,  heavy,  candle,  road, \n",
      "Cluster 29: ye,  dick,  said,  man,  says,  sir,  wi,  like,  ll,  lord, \n",
      "Cluster 30: mrs,  nurse,  asked,  child,  dr,  doctor,  did,  evening,  upstairs,  day, \n",
      "Cluster 31: army,  greedy,  don,  holidays,  prince,  dog,  boys,  tragedy,  said,  little, \n",
      "Cluster 32: dogs,  trail,  shoes,  yankee,  packed,  mission,  pick,  women,  miles,  streak, \n",
      "Cluster 33: dan,  courageous,  captains,  said,  fer,  ye,  fish,  tom,  boat,  jack, \n",
      "Cluster 34: mile,  tired,  ha,  wood,  watch,  half,  park,  walking,  miss,  wilderness, \n",
      "Cluster 35: king,  said,  prince,  sir,  people,  england,  english,  men,  queen,  great, \n",
      "Cluster 36: prisoners,  british,  army,  general,  province,  inhabitants,  commencement,  campaign,  captured,  government, \n",
      "Cluster 37: perch,  threat,  minor,  consult,  business,  miss,  mr,  applied,  render,  occasions, \n",
      "Cluster 38: tom,  said,  mr,  pinch,  don,  father,  know,  martin,  philip,  mrs, \n",
      "Cluster 39: dances,  hunter,  mr,  ball,  mary,  barrel,  captain,  engaged,  room,  yon, \n",
      "Cluster 40: flour,  daylight,  thousand,  rush,  dollars,  passes,  half,  camp,  burning,  going, \n",
      "Cluster 41: chinese,  mien,  shops,  inn,  women,  streets,  mission,  china,  temple,  guest, \n",
      "Cluster 42: sense,  house,  rain,  engagements,  quitted,  lingering,  winding,  lawn,  sensibility,  pleasant, \n",
      "Cluster 43: christian,  preach,  tbey,  dan,  parson,  tragedy,  vice,  shall,  prefer,  quiet, \n",
      "Cluster 44: stars,  bend,  joints,  fingers,  sun,  thumb,  sky,  hold,  bright,  feet, \n"
     ]
    }
   ],
   "source": [
    "#print k-means evaluation results \n",
    "print(\"Homogeneity: %0.3f\" % metrics.homogeneity_score(y_raw, km.labels_))\n",
    "print(\"Completeness: %0.3f\" % metrics.completeness_score(y_raw, km.labels_))\n",
    "print(\"V-measure: %0.3f\" % metrics.v_measure_score(y_raw, km.labels_))\n",
    "print(\"Adjusted Rand-Index: %.3f\"\n",
    "      % metrics.adjusted_rand_score(y_raw, km.labels_))\n",
    "print(\"Silhouette Coefficient: %0.3f\"\n",
    "      % metrics.silhouette_score(bodyMatrix, km.labels_, sample_size=1000))\n",
    "print()\n",
    "\n",
    "#print top terms in each cluster\n",
    "print(\"Top terms per cluster:\")\n",
    "order_centroids = km.cluster_centers_.argsort()[:, ::-1]\n",
    "terms = vectorizer.get_feature_names()\n",
    "for i in range(true_k):\n",
    "    print(\"Cluster %d:\" % i, end='')\n",
    "    for ind in order_centroids[i, :10]:\n",
    "        print(' %s' % terms[ind], end=', ')\n",
    "    print()"
   ]
  },
  {
   "cell_type": "markdown",
   "metadata": {},
   "source": [
    "### Author Label Clustering \n",
    "\n",
    "Print out above clusters with author labels rather than term/feature labels to investigate which authors are clustered together often. "
   ]
  },
  {
   "cell_type": "code",
   "execution_count": 11,
   "metadata": {},
   "outputs": [
    {
     "name": "stdout",
     "output_type": "stream",
     "text": [
      "Cluster with Author Labels:\n",
      "\n",
      "Cluster 0: [43, 43]\n",
      "\n",
      "Cluster 1: [29]\n",
      "\n",
      "Cluster 2: [39, 18, 41, 9, 28, 9, 33, 9, 45, 9, 48, 39, 33, 45, 41, 25, 45, 45, 37, 9, 39, 41, 27, 50, 39, 35, 37, 18, 45, 39, 28, 4, 41, 15, 13, 4, 24, 33, 18, 45, 45, 45, 44, 39, 37, 45, 41, 37, 41, 48, 39, 39, 41, 45, 18, 39, 39, 41, 18, 15, 4, 37, 28, 45, 9, 23, 39, 39, 4, 28, 14, 45, 24, 45, 28, 45, 4, 39, 21, 39, 4, 45, 21, 39, 23, 2, 37, 39, 37, 45, 37, 45, 2, 15, 39, 39, 39, 13, 28, 44]\n",
      "\n",
      "Cluster 3: [14, 14, 14, 14]\n",
      "\n",
      "Cluster 4: [20]\n",
      "\n",
      "Cluster 5: [38, 8, 8, 8, 22, 25, 42, 9, 45, 8, 8, 8, 43, 8, 14, 8, 8, 8, 8, 36, 8, 26, 36, 14, 8, 8, 12, 26, 8, 8, 8, 8, 22, 42, 8, 12, 8, 8, 27, 14, 8, 8, 33, 8, 8, 8, 14, 8, 8, 8, 14, 9, 9, 25, 8, 15, 24, 30, 8, 8, 9, 8, 38, 8, 8, 8, 36, 8, 8, 8, 8, 8, 8, 8, 8, 38, 8, 8, 8, 26, 1, 25, 8, 14, 25, 46, 9, 8, 14, 8, 26, 8, 9, 14, 8, 8, 15, 8, 8, 25]\n",
      "\n",
      "Cluster 6: [28]\n",
      "\n",
      "Cluster 7: [26, 6, 26, 26, 26, 6, 26, 26, 26, 6, 26, 8, 26, 26, 26, 26, 26, 26, 26, 26, 26, 26, 26, 26, 6, 26, 26, 26, 26, 8, 26, 26, 8, 26, 26, 26, 26, 26, 26, 26, 26, 26, 6, 6, 26, 26, 26, 26, 26, 26, 26, 6, 26, 26, 26, 26, 26, 26, 3, 26, 26, 26, 26, 26, 26, 26, 6, 26, 26, 26, 26, 26, 6, 26, 26, 26, 25, 6, 26, 26, 26, 26, 26, 26, 6, 26, 26, 26, 26, 26, 26, 26, 26, 26, 26, 26, 26, 26, 8, 26]\n",
      "\n",
      "Cluster 8: [9, 15, 42, 14, 8, 10, 39, 41, 33, 21, 8, 21, 40, 30, 46, 15, 17, 39, 43, 6, 15, 21, 46, 40, 21, 32, 36, 45, 9, 13, 17, 42, 45, 15, 8, 21, 21, 4, 48, 18, 25, 21, 50, 4, 8, 8, 8, 45, 39, 40, 33, 12, 13, 21, 8, 6, 39, 33, 32, 1, 34, 45, 46, 12, 18, 21, 42, 33, 13, 40, 42, 39, 8, 14, 43, 38, 10, 33, 8, 39, 15, 6, 2, 42, 21, 39, 42, 21, 33, 39, 4, 14, 40, 10, 45, 38, 38, 14, 21, 13]\n",
      "\n",
      "Cluster 9: [26]\n",
      "\n",
      "Cluster 10: [4, 4]\n",
      "\n",
      "Cluster 11: [14, 8, 8, 26, 16, 12, 8, 8, 44, 26, 8, 14, 26, 26, 30, 40, 8, 10, 8, 25, 8, 32, 26, 26, 45, 14, 50, 26, 32, 45, 33, 9, 33, 32, 46, 8, 46, 26, 41, 26, 8, 1, 14, 45, 17, 32, 14, 14, 8, 26, 1, 26, 26, 26, 14, 30, 32, 8, 8, 16, 8, 16, 15, 6, 46, 30, 26, 45, 42, 2, 26, 1, 32, 26, 6, 26, 8, 30, 14, 26, 30, 42, 10, 26, 26, 39, 21, 25, 26, 25, 26, 14, 26, 8, 26, 32, 26, 26, 6, 8]\n",
      "\n",
      "Cluster 12: [6]\n",
      "\n",
      "Cluster 13: [48, 28, 22, 14, 43, 11, 8, 37, 35, 29, 41, 8, 48, 42, 48, 19, 9, 22, 20, 20, 37, 41, 25, 44, 48, 41, 29, 37, 24, 21, 14, 3, 19, 48, 38, 15, 19, 37, 37, 19, 18, 29, 26, 8, 14, 48, 48, 43, 11, 37, 24, 14, 50, 20, 43, 48, 11, 37, 19, 22, 37, 21, 44, 48, 41, 11, 21, 11, 8, 6, 11, 11, 8, 15, 11, 32, 37, 43, 8, 41, 41, 37, 41, 21, 37, 19, 37, 24, 48, 14, 37, 22, 22, 48, 24, 45, 10, 45, 14, 48]\n",
      "\n",
      "Cluster 14: [37, 37, 19, 37, 19, 19, 37, 37, 19, 37, 19, 19, 19, 19, 19, 19, 19, 19, 19, 19, 19, 37, 19, 37, 37, 19, 19, 19, 37, 19, 19, 19, 19, 19, 11, 37, 19, 19, 37, 37, 19, 19, 19, 37, 19, 19, 19, 37, 19, 19, 19, 19, 19, 19, 19, 19, 37, 37, 19, 37, 18, 19, 19, 37, 19, 19, 19, 37, 37, 19, 37, 19, 37, 19, 19, 19, 19, 19, 19, 37, 19, 37, 37, 19, 19, 19, 37, 19, 19, 37, 19, 37, 19, 19, 19, 19, 19, 19, 37, 19]\n",
      "\n",
      "Cluster 15: [43, 43]\n",
      "\n",
      "Cluster 16: [8, 26, 26, 26, 45, 13, 26, 8, 26, 26, 8, 13, 26, 26, 45, 26, 8, 26, 45, 26, 26, 26, 26, 26, 12, 45, 8, 26, 6, 8, 26, 26, 26, 40, 26, 26, 45, 26, 26, 26, 46, 26, 9, 40, 45, 26, 8, 8, 26, 26, 8, 17, 45, 8, 26, 26, 8, 26, 26, 26, 26, 12, 26, 26, 26, 26, 9, 26, 26, 26, 26, 26, 26, 26, 26, 26, 26, 26, 8, 26, 26, 26, 26, 26, 26, 26, 46, 26, 26, 26, 26, 13, 26, 26, 12, 8, 26, 26, 26, 26]\n",
      "\n",
      "Cluster 17: [30]\n",
      "\n",
      "Cluster 18: [21]\n",
      "\n",
      "Cluster 19: [6, 39, 4, 28, 28, 43, 21, 21, 39, 48, 36, 20, 20, 19, 21, 23, 21, 8, 10, 20, 28, 18, 14, 28, 19, 20, 20, 4, 28, 21, 38, 8, 28, 20, 28, 29, 28, 28, 19, 18, 48, 23, 23, 28, 48, 36, 28, 28, 20, 28, 18, 20, 8, 22, 20, 28, 20, 23, 43, 37, 37, 28, 48, 28, 35, 19, 35, 28, 28, 10, 36, 18, 28, 19, 20, 28, 38, 28, 28, 28, 28, 39, 8, 28, 20, 20, 23, 42, 18, 28, 18, 28, 20, 20, 19, 20, 19, 20, 19, 21]\n",
      "\n",
      "Cluster 20: [4]\n",
      "\n",
      "Cluster 21: [9]\n",
      "\n",
      "Cluster 22: [33, 33]\n",
      "\n",
      "Cluster 23: [14, 12, 45, 45, 26, 8, 26, 14, 26, 26, 26, 3, 26, 26, 26, 26, 45, 26, 15, 26, 26, 26, 26, 13, 14, 1, 2, 45, 26, 8, 40, 26, 26, 43, 33, 8, 15, 26, 30, 26, 8, 25, 26, 30, 26, 26, 26, 26, 26, 25, 8, 26, 8, 26, 1, 26, 8, 8, 15, 14, 32, 8, 26, 26, 1, 8, 26, 1, 8, 26, 26, 26, 26, 43, 14, 14, 13, 44, 30, 25, 8, 13, 1, 26, 26, 14, 44, 26, 26, 40, 26, 26, 32, 26, 26, 14, 26, 26, 26, 25]\n",
      "\n",
      "Cluster 24: [4]\n",
      "\n",
      "Cluster 25: [46]\n",
      "\n",
      "Cluster 26: [26, 26, 26, 26, 26, 26, 26, 26, 26, 26]\n",
      "\n",
      "Cluster 27: [48, 8, 26, 14, 48, 14, 48, 26, 48, 48, 48, 48, 26, 26, 19, 19, 48, 48, 19, 26, 28, 48, 48, 26, 48, 14, 48, 26, 26, 48, 14, 48, 14, 14, 14, 48, 14, 48, 48, 14, 19, 26, 48, 48, 26, 26, 48, 48, 48, 26, 26, 14, 26, 26, 26, 19, 48, 48, 14, 19, 14, 19, 35, 14, 48, 48, 48, 48, 14, 26, 14, 48, 14, 26, 48, 19, 14, 14, 26, 19, 14, 26, 48, 26, 14, 26, 19, 48, 48, 48, 26, 14, 19, 14, 14, 38, 48, 26, 14, 26]\n",
      "\n",
      "Cluster 28: [8, 8]\n",
      "\n",
      "Cluster 29: [33, 39, 39, 50, 38, 48, 45, 50, 45, 38, 13, 39, 21, 9, 18, 38, 9, 14, 38, 38, 38, 38, 17, 9, 39, 38, 39, 33, 38, 38, 4, 38, 38, 39, 39, 38, 38, 39, 39, 43, 17, 50, 18, 39, 9, 38, 39, 38, 38, 17, 33, 39, 38, 38, 38, 38, 9, 39, 39, 43, 38, 39, 38, 38, 18, 38, 39, 38, 38, 39, 38, 38, 21, 33, 33, 33, 39, 14, 39, 9, 38, 39, 17, 18, 38, 33, 4, 38, 46, 38, 38, 38, 38, 38, 33, 33, 38, 45, 17, 38]\n",
      "\n",
      "Cluster 30: [1]\n",
      "\n",
      "Cluster 31: [44, 44]\n",
      "\n",
      "Cluster 32: [21]\n",
      "\n",
      "Cluster 33: [39, 39, 39, 39, 39, 39, 39, 39, 39, 39, 39, 23, 39, 39, 39, 39, 8, 39, 39, 39, 39, 36, 39, 39, 39, 8, 39, 39, 33, 39, 39, 39, 39, 39, 39, 39, 39, 39, 39, 39, 39, 39, 36, 39, 39, 39, 39, 39, 39, 39, 39, 39, 39, 39, 39, 39, 39, 39, 39, 39, 39, 39, 39, 39, 39, 39, 21, 39, 39, 36, 39, 39, 39, 39, 39, 36, 39, 39, 39, 23, 39, 39, 39, 39, 39, 39, 39, 39, 39, 39, 36, 39, 36, 39, 39, 39, 39, 36, 39, 39]\n",
      "\n",
      "Cluster 34: [26, 26, 26, 26, 26, 26, 26, 26, 26]\n",
      "\n",
      "Cluster 35: [39, 33, 33, 40, 34, 36, 11, 4, 2, 8, 2, 33, 39, 34, 45, 37, 33, 35, 23, 23, 38, 20, 33, 33, 21, 39, 13, 35, 50, 18, 23, 33, 38, 21, 37, 33, 34, 18, 18, 33, 20, 24, 34, 21, 23, 8, 23, 36, 34, 4, 39, 35, 23, 34, 8, 37, 33, 13, 34, 4, 11, 6, 33, 34, 34, 34, 34, 33, 23, 35, 14, 8, 33, 8, 33, 34, 23, 34, 33, 2, 23, 15, 39, 8, 34, 23, 33, 39, 18, 33, 34, 2, 33, 39, 8, 33, 8, 2, 33, 8]\n",
      "\n",
      "Cluster 36: [29]\n",
      "\n",
      "Cluster 37: [8, 8]\n",
      "\n",
      "Cluster 38: [14, 13, 36, 1, 8, 8, 8, 8, 3, 26, 34, 8, 13, 14, 50, 14, 14, 14, 8, 8, 3, 40, 40, 42, 8, 8, 14, 8, 13, 8, 34, 50, 8, 8, 13, 8, 8, 14, 8, 8, 34, 8, 3, 8, 8, 8, 14, 8, 14, 8, 34, 14, 14, 3, 34, 3, 8, 34, 36, 14, 8, 13, 14, 8, 23, 14, 34, 34, 8, 4, 14, 14, 34, 34, 8, 14, 8, 13, 14, 15, 34, 3, 8, 8, 8, 3, 8, 14, 34, 14, 13, 13, 13, 34, 8, 14, 13, 42, 14, 14]\n",
      "\n",
      "Cluster 39: [26, 26, 26, 26]\n",
      "\n",
      "Cluster 40: [21, 21]\n",
      "\n",
      "Cluster 41: [20]\n",
      "\n",
      "Cluster 42: [26, 26, 26, 26, 26, 26, 26, 26, 26, 26]\n",
      "\n",
      "Cluster 43: [33]\n",
      "\n",
      "Cluster 44: [22]\n"
     ]
    }
   ],
   "source": [
    "print(\"Cluster with Author Labels:\")\n",
    "k_means_labels = km.labels_\n",
    "dictLabels = dict((author,[]) for author in km.labels_)\n",
    "NUM_SAMPLES = len(y_raw)\n",
    "for k in range(NUM_SAMPLES): \n",
    "    dictLabels[km.labels_[k]].append(y_raw[k])\n",
    "for key, value in sorted(dictLabels.items()): \n",
    "    print(\"\\nCluster {}: {}\".format(key, value[:100]))"
   ]
  },
  {
   "cell_type": "markdown",
   "metadata": {},
   "source": [
    "Above we see some Author IDs co-occur frequently in some clusters. We try to explain these co-occurences by researching the authors and their writing styles to understand what kinds of topics, literary styles, and influences each author used. \n",
    "\n",
    "26 and 6 - Jane Austen and Catherine Maria Sedgewick\n",
    "Interestingly, Sedgewick was highly influenced by Austen's work: \"Born only thirteen years after the Revolutionary War began, Catherine Maria Sedgwick was one of her day’s most popular novelists. Her literary career began only a decade after Jane Austen’s, and the authors’ works are quite similar. Much of the volume is taken up with Austenesque love triangles.\"\n",
    "<https://historicalnovelsociety.org/reviews/the-linwoods/>\n",
    "\n",
    "8 and 21 - Charles Dickens and Jack London \n",
    "Both Jack London and Charles Dickens worked in very similar topics, namely exploring the middle and lower class worker in the age of modern urbanization and industrialization. “In both liberal humanist and Marxist approaches to literature in adult education up to 1945, moves were made to extend the canon of works studied to include texts of particular interest to working-class readers - for example the work of Charles Dickens and Jack London.” \n",
    "The Cambridge History of Literary Criticism: Volume 9, Twentieth-Century (https://books.google.com/books?id=NCEpn3KxxT4C&pg=PA158&lpg=PA158&dq=charles+dickens+and+%22jack+london%22+lower+class+workers&source=bl&ots=GBDnrywwUL&sig=3TYDim-YEJ7tIQh3JvPjfNqvAVM&hl=en&sa=X&ved=2ahUKEwj1ueiOiqXdAhURDHwKHX4HARYQ6AEwBHoECAUQAQ#v=onepage&q=charles%20dickens%20and%20%22jack%20london%22%20lower%20class%20workers&f=false)\n",
    "\n",
    "38 and 39 - Robert Louis Stevenson and Rudyard Kipling \n",
    "“Stevenson corresponded with and was admired by other authors of his time… Other authors who admired him greatly but with whom he didn’t enjoy a personal relationship included…Rudyard Kipling.”\n",
    "https://stevensonmuseum.org/robert-louis-stevenson/the-times/\n",
    "\n",
    "39 and 21 - Rudyard Kipling and Jack London\n",
    "“As for literary influences, Rudyard Kipling was London’s idol. He reveled in the heroics and racial overtones of the English giant’s writing. Early in his career he rewrote much of Kipling’s work longhand, in an effort to capture some of the style. In one of his letters he acknowledged his indebtedness, writing: “As for myself, there is no end of Kipling in my work, . . . I would never have possibly written anywhere near the way I did had Kipling never been.””\n",
    "https://www.counter-currents.com/2011/07/the-soul-of-jack-london-part-1/\n",
    "\n",
    "19, 37,  and 21 - Horace Greeley, Thomas Carlyle, Jack London \n",
    "All wrote about life “tramps, criminals, and prostitutes” and were features in Book III: The Outcast by Upton Sinclair as an anthology of the literature of social protest. “The life of the underworld, of those thrown upon the scrap-heap of the modern industrial machine”. \n",
    "https://www.bartleby.com/71/index3.html\n",
    "\n",
    "19 and 37 - Horace Greeley and Thomas Carlyle\n",
    "“The two most influential books for Greeley were Thomas Carlyle’s Past and Present, which was a gift from Emerson, and William Atkinson’s (1840)Principles of Political Economy; or the Laws of the Formation of National Wealth, Developed by Means of the Christian Law of Government. Together, they represent Greeley’s twin interests in radical reform of concentrated wealth among elite landowner as reflected in Carlyle, and dignifying labor through property ownership as advanced in Atkinson.”\n",
    "http://journals.sagepub.com/doi/full/10.1177/1522637916687321\n"
   ]
  },
  {
   "cell_type": "markdown",
   "metadata": {},
   "source": [
    "### Vectorized Author Profiles\n",
    "\n",
    "We created author profiles by concatenating all of the author's work together and then vectorizing each large body of work to create vector profiles of each author. We then clustered these profile vectors to visualize patterns in author patterns. "
   ]
  },
  {
   "cell_type": "code",
   "execution_count": 12,
   "metadata": {},
   "outputs": [
    {
     "name": "stdout",
     "output_type": "stream",
     "text": [
      "Author works concatenated.\n",
      "Number of concatenated works: 45\n",
      "Number of authors: 45\n"
     ]
    }
   ],
   "source": [
    "#combine and concatenate all works by the same author \n",
    "dictAuthorWorks = dict((work,\"\") for work in y_raw)\n",
    "for x in range(len(x_raw)):\n",
    "    dictAuthorWorks[y_raw[x]] += x_raw[x]\n",
    "x_raw_author_prof = list(dictAuthorWorks.values()) #list of author works with same index as IDs \n",
    "y_raw_author_prof = list(dictAuthorWorks.keys()) #list of Author IDs\n",
    "\n",
    "print(\"Author works concatenated.\")\n",
    "print(\"Number of concatenated works: {}\".format(len(x_raw_author_prof)))\n",
    "print(\"Number of authors: {}\".format(len(y_raw_author_prof)))"
   ]
  },
  {
   "cell_type": "code",
   "execution_count": 13,
   "metadata": {},
   "outputs": [
    {
     "name": "stdout",
     "output_type": "stream",
     "text": [
      "Author vectorized profiles created.\n"
     ]
    }
   ],
   "source": [
    "#vectorize data to obtain features of each author and create vectorized author profile \n",
    "vectorizerAuthor = TfidfVectorizer(stop_words = \"english\")\n",
    "authorMatrix = vectorizerAuthor.fit_transform(x_raw_author_prof)\n",
    "authorFeatures = vectorizerAuthor.get_feature_names()\n",
    "\n",
    "print(\"Author vectorized profiles created.\")"
   ]
  },
  {
   "cell_type": "markdown",
   "metadata": {},
   "source": [
    "### Find Closest Authors\n",
    "After creating vectorized author profiles, we can find the closest authors to any individual using cosine similarity. We use sklearn's linear kernel and then splice the vector of the desginated author. We can then find the closest authors in relation to the spliced vector by sorting the rest of the authorMatrix and then returning the IDs of the closest authors. "
   ]
  },
  {
   "cell_type": "code",
   "execution_count": 14,
   "metadata": {},
   "outputs": [
    {
     "data": {
      "text/plain": [
       "[25, 1, 14, 6, 8, 12]"
      ]
     },
     "execution_count": 14,
     "metadata": {},
     "output_type": "execute_result"
    }
   ],
   "source": [
    "from sklearn.metrics.pairwise import linear_kernel\n",
    "from sklearn.metrics.pairwise import euclidean_distances\n",
    "\n",
    "def findClosest(ID, N=5): \n",
    "    index = y_raw_author_prof.index(ID)\n",
    "    temp = authorMatrix[index:index+1]\n",
    "    cosine_similarities = linear_kernel(temp, authorMatrix).flatten()\n",
    "    related_auth_indices = cosine_similarities.argsort()[:(-1*(N+2)):-1]\n",
    "    closestAuthors = [y_raw_author_prof[x] for x in related_auth_indices[1:]]\n",
    "    return closestAuthors\n",
    "\n",
    "findClosest(26, N=6) #input Author ID to see N closest neighbors \n",
    "#26 = Jane Austen, 6 = Catherine Sedgewick, we see here that 6 is included in closest neighbors to 26"
   ]
  },
  {
   "cell_type": "markdown",
   "metadata": {},
   "source": [
    "### Author Profile Clustering \n",
    "\n",
    "Using the features from each author profile, we cluster authors and investigate the inertia and stability of using various NUM_CLUSTER values. "
   ]
  },
  {
   "cell_type": "code",
   "execution_count": 37,
   "metadata": {},
   "outputs": [
    {
     "name": "stdout",
     "output_type": "stream",
     "text": [
      "Clustering sparse data with MiniBatchKMeans(batch_size=100, compute_labels=True, init='k-means++',\n",
      "        init_size=None, max_iter=100, max_no_improvement=10, n_clusters=10,\n",
      "        n_init=20, random_state=42, reassignment_ratio=0.01, tol=0.0,\n",
      "        verbose=0)\n",
      "done in 2.515s\n",
      "7.283170006514924\n"
     ]
    }
   ],
   "source": [
    "NUM_CLUSTERS = 10\n",
    "kmAuthor = MiniBatchKMeans(n_clusters=NUM_CLUSTERS, init='k-means++', n_init=20, random_state = 42, compute_labels = True) #make it verbose so we know it's working\n",
    "print(\"Clustering sparse data with %s\" % kmAuthor)\n",
    "t0 = time() #record start time to document the total time it took to run\n",
    "kmAuthor.fit(authorMatrix)\n",
    "print(\"done in %0.3fs\" % (time() - t0)) #print total run time\n",
    "print(kmAuthor.inertia_)"
   ]
  },
  {
   "cell_type": "code",
   "execution_count": 38,
   "metadata": {},
   "outputs": [
    {
     "name": "stdout",
     "output_type": "stream",
     "text": [
      "Cluster with Author Labels:\n",
      "\n",
      "Cluster 0: [38]\n",
      "\n",
      "Cluster 1: [46]\n",
      "\n",
      "Cluster 2: [15]\n",
      "\n",
      "Cluster 3: [21, 35, 18, 23]\n",
      "\n",
      "Cluster 4: [9, 14, 42, 8, 6, 10, 39, 22, 41, 33, 12, 43, 45, 26, 40, 30, 17, 4, 29, 16, 36, 13, 44, 3, 25, 50, 1, 34, 2, 27]\n",
      "\n",
      "Cluster 5: [24]\n",
      "\n",
      "Cluster 6: [48, 37, 19]\n",
      "\n",
      "Cluster 7: [28, 20]\n",
      "\n",
      "Cluster 8: [11]\n",
      "\n",
      "Cluster 9: [32]\n"
     ]
    }
   ],
   "source": [
    "print(\"Cluster with Author Labels:\")\n",
    "k_means_labels = kmAuthor.labels_\n",
    "dictAuthorLabels = dict((cluster,[]) for cluster in kmAuthor.labels_)\n",
    "NUM_SAMPLES = len(y_raw_author_prof)\n",
    "for k in range(NUM_SAMPLES): \n",
    "    dictAuthorLabels[kmAuthor.labels_[k]].append(y_raw_author_prof[k])\n",
    "totalItems = 0\n",
    "for key, value in sorted(dictAuthorLabels.items()): \n",
    "    print(\"\\nCluster {}: {}\".format(key, value))\n",
    "    totalItems += len(value)"
   ]
  },
  {
   "cell_type": "markdown",
   "metadata": {},
   "source": [
    "## Confusion Matrix\n",
    "\n",
    "As we said previously, the dataset is skewed in favor of a few authors who have published heavily. Because of this, we cannot rely solely on accuracy as a measure of the model. Confusion matrices are helpful for skewed data to help understand which positive and negative cases the model misclassified the data. A diagonal line from the top left to the bottom right shows almost perfectly classified data with very little overfitting. "
   ]
  },
  {
   "cell_type": "code",
   "execution_count": 17,
   "metadata": {},
   "outputs": [],
   "source": [
    "import seaborn as sn\n",
    "from sklearn.metrics import confusion_matrix\n",
    "\n",
    "def printConfusionHeatmap(test, pred, numLabels): \n",
    "    array = confusion_matrix(test, pred)\n",
    "    df_cm = pd.DataFrame(array, index = [i for i in range(numLabels)], columns = [i for i in range(numLabels)])\n",
    "    plt.figure(figsize = (10,7))\n",
    "    sn.heatmap(df_cm, annot=False)\n",
    "    plt.show()"
   ]
  },
  {
   "cell_type": "markdown",
   "metadata": {},
   "source": [
    "## Naive Bayes Classification \n",
    "\n",
    "Naive Bayes is a standard classical machine learning baseline model. The Multinomial varient of Naive Bayes is most often used in text-classification. We use the same features we extracted before with the TfidfVectorizer() and split the data into training and test sets. "
   ]
  },
  {
   "cell_type": "code",
   "execution_count": 18,
   "metadata": {},
   "outputs": [
    {
     "name": "stdout",
     "output_type": "stream",
     "text": [
      "Results with Naive Bayes:\n",
      "Accuracy: 72.541 %\n"
     ]
    },
    {
     "data": {
      "image/png": "[encoded data removed]",
      "text/plain": [
       "<Figure size 720x504 with 2 Axes>"
      ]
     },
     "metadata": {},
     "output_type": "display_data"
    }
   ],
   "source": [
    "from sklearn.naive_bayes import MultinomialNB\n",
    "from sklearn.metrics import confusion_matrix\n",
    "from sklearn.metrics import f1_score\n",
    "from sklearn.metrics import confusion_matrix\n",
    "\n",
    "#split data into test and train sets\n",
    "trainBody, testBody, trainBody_labels, testBody_labels = train_test_split(bodyMatrix, y_raw, test_size=0.10)\n",
    "\n",
    "#fit model to train data\n",
    "clfNB = MultinomialNB().fit(trainBody, trainBody_labels)\n",
    "\n",
    "#predict on test data\n",
    "predictionsNB = clfNB.predict(testBody)\n",
    "\n",
    "#print results\n",
    "print(\"Results with Naive Bayes:\")\n",
    "print(\"Accuracy: {0:0.3f} %\".format(np.mean(predictionsNB == testBody_labels)*100))\n",
    "\n",
    "printConfusionHeatmap(testBody_labels, predictionsNB, len(y_labels))"
   ]
  },
  {
   "cell_type": "markdown",
   "metadata": {},
   "source": [
    "## Linear SVM Classification\n",
    "\n",
    "Linear SVMs are highly regarded in natural language processing because it is one of the highest-performing classical machine learning models available. We see an increase in accuracy over the Naive Bayes model when using the Linear SVM. "
   ]
  },
  {
   "cell_type": "code",
   "execution_count": 19,
   "metadata": {},
   "outputs": [
    {
     "name": "stdout",
     "output_type": "stream",
     "text": [
      "Results with Linear SVM:\n",
      "Accuracy: 97.988 %\n"
     ]
    },
    {
     "data": {
      "image/png": "[encoded data removed]",
      "text/plain": [
       "<Figure size 720x504 with 2 Axes>"
      ]
     },
     "metadata": {},
     "output_type": "display_data"
    }
   ],
   "source": [
    "from sklearn import svm\n",
    "\n",
    "#fit model to train data\n",
    "clfSVM = svm.LinearSVC().fit(trainBody, trainBody_labels)\n",
    "\n",
    "#predict on test data \n",
    "predictionsSVM = clfSVM.predict(testBody)\n",
    "\n",
    "#print results \n",
    "print(\"Results with Linear SVM:\")\n",
    "print(\"Accuracy: {0:0.3f} %\".format(np.mean(predictionsSVM == testBody_labels)*100))\n",
    "\n",
    "printConfusionHeatmap(testBody_labels, predictionsSVM, len(y_labels))"
   ]
  },
  {
   "cell_type": "markdown",
   "metadata": {},
   "source": [
    "## Multi-Layer Perceptron \n",
    "\n",
    "Neural methods have been shown to outperform classical machine learning in text-classification tasks. Here we use a multi-layer perceptron from sklearn with a standard one layer with 100 hidden units. "
   ]
  },
  {
   "cell_type": "code",
   "execution_count": 20,
   "metadata": {},
   "outputs": [
    {
     "name": "stdout",
     "output_type": "stream",
     "text": [
      "Results with Multi-Layer Perceptron:\n",
      "Accuracy: 97.932 %\n"
     ]
    },
    {
     "data": {
      "image/png": "[encoded data removed]",
      "text/plain": [
       "<Figure size 720x504 with 2 Axes>"
      ]
     },
     "metadata": {},
     "output_type": "display_data"
    }
   ],
   "source": [
    "from sklearn.neural_network import MLPClassifier\n",
    "\n",
    "#fit model to train data\n",
    "clfMLP = MLPClassifier().fit(trainBody, trainBody_labels)\n",
    "\n",
    "#predict on test data\n",
    "predictionsMLP = clfMLP.predict(testBody)\n",
    "\n",
    "#print results\n",
    "print(\"Results with Multi-Layer Perceptron:\")\n",
    "print(\"Accuracy: {0:0.3f} %\".format(np.mean(predictionsMLP == testBody_labels)*100))\n",
    "\n",
    "printConfusionHeatmap(testBody_labels, predictionsMLP, len(y_labels))"
   ]
  },
  {
   "cell_type": "code",
   "execution_count": null,
   "metadata": {},
   "outputs": [],
   "source": []
  }
 ],
 "metadata": {
  "kernelspec": {
   "display_name": "Python 3",
   "language": "python",
   "name": "python3"
  },
  "language_info": {
   "codemirror_mode": {
    "name": "ipython",
    "version": 3
   },
   "file_extension": ".py",
   "mimetype": "text/x-python",
   "name": "python",
   "nbconvert_exporter": "python",
   "pygments_lexer": "ipython3",
   "version": "3.6.5"
  }
 },
 "nbformat": 4,
 "nbformat_minor": 2
}
