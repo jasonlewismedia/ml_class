{
 "cells": [
  {
   "cell_type": "markdown",
   "metadata": {},
   "source": [
    "# Regression or Classification\n",
    "\n",
    "## Regression\n",
    "\n",
    "Trying to draw the best line through the data.\n",
    "The best line is the one with the smallest error on matching the data (mean squared error) without overfitting or underfitting each data point in the training set.\n",
    "\n",
    "- Each prediction output is a scalar value, dependent on the input.\n",
    "- The relationship of the dependency will depend on the algorithm used (linear, polynomial, etc)\n",
    "\n",
    "> '_Logistic Regression_' is unfortunately named.  \n",
    "> It's actually a **Binary Classifier** (predicts an output 'class' of 1 or 0)\n",
    "\n",
    "### Cost Function\n",
    "\n",
    "The cost function formula used can vary but it's usually the Mean Squared Error in Linear Regression:\n",
    "https://en.wikipedia.org/wiki/Mean_squared_error\n",
    "\n",
    "## $Mean Squared Error=\\displaystyle\\frac{1}{m}\\sum_{t=1}^{m}(Y_i-{\\hat Y_i})^2$\n",
    "\n",
    "This is just a clever way of calculating how bad your line is in fitting through the data:\n",
    "You will almost never be able to create a _perfect_ prediction algorithm. \n",
    "> A perfect line through all of your data points is likely overfitting!\n",
    "    \n",
    "![squared error](images/mse.png)\n",
    "\n",
    "\n",
    "## Classification\n",
    "\n",
    "Trying to identify the data into discreet buckets of **labeled** data ('classes')\n",
    "\n",
    "* There's a limited number of defined classes\n",
    "* predictions come with a probability score between 0-1 (e.g. .73, or 73% match)\n",
    "\n",
    "Example: identify whether an image contains a known animal\n",
    "\n",
    "Class | Probability\n",
    " -- | --\n",
    "Dog | .83\n",
    "Cat | .71\n",
    "Bird | .16\n",
    "\n",
    "### Unsupervised Learning\n",
    "\n",
    "We don't know what the classification groups/labels are yet\n",
    "\n",
    "* **Clustering** & automatic grouping without labeling data\n",
    "* Even though this is \"**Unsupervised**\", it requires a lot of human attention\n",
    "\n",
    "### Supervised Learning\n",
    "We know exactly how we want to **label** the data, we just don't want to do it by hand.\n",
    "\n",
    "* input unlabeled data (train data)\n",
    "* output predicted labels\n",
    "* evaluate the efficacy of the model based on a pre-labeled truth set (eval data)\n",
    "\n",
    "# Pop Quiz\n",
    "\n",
    "Which type of machine learning problem might these be, Regression or Classification?\n",
    "* Note: because \"Logistic Regression\" can be used to classify, you can consider that a \"Clasification\" method\n",
    "* Regression encompases \"Linear Regression\", \"Polynomial Regression\", etc"
   ]
  },
  {
   "cell_type": "markdown",
   "metadata": {},
   "source": [
    "## 1. You are examining a large set of images, looking for offensive content"
   ]
  },
  {
   "cell_type": "code",
   "execution_count": null,
   "metadata": {},
   "outputs": [],
   "source": [
    "answer1=['Classification', 'Regression']\n",
    "print(\"Answer 1:\", answer1[1-1+1-1+1-1+1-1+1-1])"
   ]
  },
  {
   "cell_type": "markdown",
   "metadata": {},
   "source": [
    "## 2. You would like to predict the population count of attendees at a public park based on historical daily visitor counts and the weather of each day"
   ]
  },
  {
   "cell_type": "code",
   "execution_count": null,
   "metadata": {},
   "outputs": [],
   "source": [
    "answer1=['Classification', 'Regression']\n",
    "print(\"Answer 2:\", answer1[1-1+1-1+1-1+1-1+1-1-1+1+1+1-1-1-1])"
   ]
  },
  {
   "cell_type": "markdown",
   "metadata": {},
   "source": [
    "## 3. You want to predict the probability that a twitter follower is a fake account"
   ]
  },
  {
   "cell_type": "code",
   "execution_count": null,
   "metadata": {},
   "outputs": [],
   "source": [
    "answer1=['Classification', 'Regression']\n",
    "print(\"Answer 3:\", answer1[3-1-1+1+1-1-11-1+1-1+1-1+1+8-2+3])"
   ]
  },
  {
   "cell_type": "markdown",
   "metadata": {},
   "source": [
    "## 4. You want to predict the next day an outage will occur based on historical uptime data"
   ]
  },
  {
   "cell_type": "code",
   "execution_count": null,
   "metadata": {},
   "outputs": [],
   "source": [
    "answer1=['Classification', 'Regression']\n",
    "print(\"Answer 4:\", answer1[4+3-2-8+5-6+5])"
   ]
  },
  {
   "cell_type": "markdown",
   "metadata": {},
   "source": [
    "## Next Up\n",
    "[Classification and Unsupervised Learning Examples](04%20-%20Classification%20and%20Unsupervised%20Learning%20Examples.ipynb)"
   ]
  }
 ],
 "metadata": {
  "kernelspec": {
   "display_name": "Python 3",
   "language": "python",
   "name": "python3"
  },
  "language_info": {
   "codemirror_mode": {
    "name": "ipython",
    "version": 3
   },
   "file_extension": ".py",
   "mimetype": "text/x-python",
   "name": "python",
   "nbconvert_exporter": "python",
   "pygments_lexer": "ipython3",
   "version": "3.6.5"
  }
 },
 "nbformat": 4,
 "nbformat_minor": 2
}
